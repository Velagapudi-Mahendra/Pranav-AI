{
 "cells": [
  {
   "cell_type": "code",
   "execution_count": null,
   "id": "58cdc6a1",
   "metadata": {
    "vscode": {
     "languageId": "plaintext"
    }
   },
   "outputs": [],
   "source": [
    "print(\"Hello from Pranav-AI Notebook 🚀\")\n"
   ]
  }
 ],
 "metadata": {
  "language_info": {
   "name": "python"
  }
 },
 "nbformat": 4,
 "nbformat_minor": 5
}
